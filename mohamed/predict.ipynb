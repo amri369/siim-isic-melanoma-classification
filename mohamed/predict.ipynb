{
 "cells": [
  {
   "cell_type": "code",
   "execution_count": 1,
   "metadata": {},
   "outputs": [],
   "source": [
    "import sys\n",
    "sys.path.insert(0, \"/raid/mohamed/siim-isic-melanoma-classification\")\n",
    "import pandas as pd\n",
    "from trainer.predict import Predict"
   ]
  },
  {
   "cell_type": "markdown",
   "metadata": {},
   "source": [
    "**Get models and features extractor parameters**"
   ]
  },
  {
   "cell_type": "code",
   "execution_count": 2,
   "metadata": {},
   "outputs": [],
   "source": [
    "arch_model = 'Classifier'\n",
    "arch_extractor = 'IternetFeaturesExtractor' \n",
    "classifier_path = '/raid/mohamed/siim-isic-melanoma-classification/exp/best_models/Focal_Resample_epoch_114.pth'\n",
    "features_extractor_path = '/raid/mohamed/cancer-segmentation/exp/iternet/_epoch_99.pth'\n",
    "predict = Predict(arch_model, arch_extractor, classifier_path, features_extractor_path)"
   ]
  },
  {
   "cell_type": "markdown",
   "metadata": {},
   "source": [
    "**Get the validation set**"
   ]
  },
  {
   "cell_type": "code",
   "execution_count": 3,
   "metadata": {},
   "outputs": [],
   "source": [
    "df_path = '/raid/mohamed/siim-isic-melanoma-classification/data/val_split.csv'\n",
    "image_dir = '/raid/mohamed/siim-isic-melanoma-classification/data/resized-jpeg/train/'\n",
    "df = pd.read_csv(df_path)"
   ]
  },
  {
   "cell_type": "markdown",
   "metadata": {},
   "source": [
    "**Predict**"
   ]
  },
  {
   "cell_type": "code",
   "execution_count": 4,
   "metadata": {},
   "outputs": [
    {
     "name": "stdout",
     "output_type": "stream",
     "text": [
      "------ 0 / 7\n",
      "------ 1 / 7\n",
      "------ 2 / 7\n",
      "------ 3 / 7\n",
      "------ 4 / 7\n",
      "------ 5 / 7\n",
      "------ 6 / 7\n",
      "Training: ROC: 0.792616845014\n",
      "Training: CM: [[5536  972]\n",
      " [  51   66]]\n"
     ]
    }
   ],
   "source": [
    "all_prob = predict(df, image_dir)"
   ]
  },
  {
   "cell_type": "code",
   "execution_count": null,
   "metadata": {},
   "outputs": [],
   "source": []
  }
 ],
 "metadata": {
  "kernelspec": {
   "display_name": "Python 3",
   "language": "python",
   "name": "python3"
  },
  "language_info": {
   "codemirror_mode": {
    "name": "ipython",
    "version": 3
   },
   "file_extension": ".py",
   "mimetype": "text/x-python",
   "name": "python",
   "nbconvert_exporter": "python",
   "pygments_lexer": "ipython3",
   "version": "3.6.10"
  }
 },
 "nbformat": 4,
 "nbformat_minor": 4
}
