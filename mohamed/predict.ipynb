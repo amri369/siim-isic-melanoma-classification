{
 "cells": [
  {
   "cell_type": "code",
   "execution_count": 1,
   "metadata": {},
   "outputs": [],
   "source": [
    "import sys\n",
    "sys.path.insert(0, \"/raid/mohamed/siim-isic-melanoma-classification\")\n",
    "import pandas as pd\n",
    "from trainer.predict import Predict\n",
    "from augmentation.autoaugment import *"
   ]
  },
  {
   "cell_type": "markdown",
   "metadata": {},
   "source": [
    "**Get models and features extractor parameters**"
   ]
  },
  {
   "cell_type": "code",
   "execution_count": 2,
   "metadata": {},
   "outputs": [],
   "source": [
    "arch_model = 'ClassifierData'\n",
    "arch_extractor = 'IternetFeaturesExtractor' \n",
    "classifier_path = '/raid/mohamed/siim-isic-melanoma-classification/exp/2020-08-06_19_45_51_931348_lr_0_001_Focal_Resample_Geometry/Focal_Resample_epoch_177.pth'\n",
    "features_extractor_path = '/raid/mohamed/cancer-segmentation/exp/iternet/_epoch_99.pth'\n",
    "predict = Predict(arch_model, arch_extractor, classifier_path, features_extractor_path, is_gpu_available=True)"
   ]
  },
  {
   "cell_type": "markdown",
   "metadata": {},
   "source": [
    "**Get the validation set**"
   ]
  },
  {
   "cell_type": "code",
   "execution_count": 3,
   "metadata": {},
   "outputs": [],
   "source": [
    "df_path = '/raid/mohamed/siim-isic-melanoma-classification/data/val_split.csv'\n",
    "image_dir = '/raid/mohamed/siim-isic-melanoma-classification/data/resized-jpeg/train/'\n",
    "df = pd.read_csv(df_path)"
   ]
  },
  {
   "cell_type": "markdown",
   "metadata": {},
   "source": [
    "**Predict**"
   ]
  },
  {
   "cell_type": "code",
   "execution_count": 4,
   "metadata": {},
   "outputs": [
    {
     "name": "stdout",
     "output_type": "stream",
     "text": [
      "-----Iteration----- 0\n",
      "------ 0 / 7\n",
      "------ 1 / 7\n",
      "------ 2 / 7\n",
      "------ 3 / 7\n",
      "------ 4 / 7\n",
      "------ 5 / 7\n",
      "------ 6 / 7\n",
      "-----Iteration----- 1\n",
      "------ 0 / 7\n",
      "------ 1 / 7\n",
      "------ 2 / 7\n",
      "------ 3 / 7\n",
      "------ 4 / 7\n",
      "------ 5 / 7\n",
      "------ 6 / 7\n",
      "-----Iteration----- 2\n",
      "------ 0 / 7\n",
      "------ 1 / 7\n",
      "------ 2 / 7\n",
      "------ 3 / 7\n",
      "------ 4 / 7\n",
      "------ 5 / 7\n",
      "------ 6 / 7\n",
      "-----Iteration----- 3\n",
      "------ 0 / 7\n",
      "------ 1 / 7\n",
      "------ 2 / 7\n",
      "------ 3 / 7\n",
      "------ 4 / 7\n",
      "------ 5 / 7\n",
      "------ 6 / 7\n",
      "-----Iteration----- 4\n",
      "------ 0 / 7\n",
      "------ 1 / 7\n",
      "------ 2 / 7\n",
      "------ 3 / 7\n",
      "------ 4 / 7\n",
      "------ 5 / 7\n",
      "------ 6 / 7\n",
      "-----Iteration----- 5\n",
      "------ 0 / 7\n",
      "------ 1 / 7\n",
      "------ 2 / 7\n",
      "------ 3 / 7\n",
      "------ 4 / 7\n",
      "------ 5 / 7\n",
      "------ 6 / 7\n",
      "-----Iteration----- 6\n",
      "------ 0 / 7\n",
      "------ 1 / 7\n",
      "------ 2 / 7\n",
      "------ 3 / 7\n",
      "------ 4 / 7\n",
      "------ 5 / 7\n",
      "------ 6 / 7\n",
      "-----Iteration----- 7\n",
      "------ 0 / 7\n",
      "------ 1 / 7\n",
      "------ 2 / 7\n",
      "------ 3 / 7\n",
      "------ 4 / 7\n",
      "------ 5 / 7\n",
      "------ 6 / 7\n",
      "-----Iteration----- 8\n",
      "------ 0 / 7\n",
      "------ 1 / 7\n",
      "------ 2 / 7\n",
      "------ 3 / 7\n",
      "------ 4 / 7\n",
      "------ 5 / 7\n",
      "------ 6 / 7\n",
      "-----Iteration----- 9\n",
      "------ 0 / 7\n",
      "------ 1 / 7\n",
      "------ 2 / 7\n",
      "------ 3 / 7\n",
      "------ 4 / 7\n",
      "------ 5 / 7\n",
      "------ 6 / 7\n",
      "ROC: 0.817205910937\n",
      "CM: [[6508    0]\n",
      " [ 117    0]]\n"
     ]
    }
   ],
   "source": [
    "all_prob = predict(df, image_dir, iterations=10, augmentation=GeometryContrast())"
   ]
  },
  {
   "cell_type": "code",
   "execution_count": 6,
   "metadata": {},
   "outputs": [],
   "source": [
    "arch_model = 'ClassifierData'\n",
    "arch_extractor = 'IternetFeaturesExtractor' \n",
    "classifier_path = '/raid/mohamed/siim-isic-melanoma-classification/exp/2020-08-07_05_48_12_199703_lr_0_001_Focal_Power_GeometryContrast/Focal_Power_epoch_258.pth'\n",
    "features_extractor_path = '/raid/mohamed/cancer-segmentation/exp/iternet/_epoch_99.pth'\n",
    "predict_2 = Predict(arch_model, arch_extractor, classifier_path, features_extractor_path, is_gpu_available=True)"
   ]
  },
  {
   "cell_type": "code",
   "execution_count": 9,
   "metadata": {},
   "outputs": [
    {
     "name": "stdout",
     "output_type": "stream",
     "text": [
      "-----Iteration----- 0\n",
      "------ 0 / 7\n",
      "------ 1 / 7\n",
      "------ 2 / 7\n",
      "------ 3 / 7\n",
      "------ 4 / 7\n",
      "------ 5 / 7\n",
      "------ 6 / 7\n",
      "-----Iteration----- 1\n",
      "------ 0 / 7\n",
      "------ 1 / 7\n",
      "------ 2 / 7\n",
      "------ 3 / 7\n",
      "------ 4 / 7\n",
      "------ 5 / 7\n",
      "------ 6 / 7\n",
      "-----Iteration----- 2\n",
      "------ 0 / 7\n",
      "------ 1 / 7\n",
      "------ 2 / 7\n",
      "------ 3 / 7\n",
      "------ 4 / 7\n",
      "------ 5 / 7\n",
      "------ 6 / 7\n",
      "-----Iteration----- 3\n",
      "------ 0 / 7\n",
      "------ 1 / 7\n",
      "------ 2 / 7\n",
      "------ 3 / 7\n",
      "------ 4 / 7\n",
      "------ 5 / 7\n",
      "------ 6 / 7\n",
      "-----Iteration----- 4\n",
      "------ 0 / 7\n",
      "------ 1 / 7\n",
      "------ 2 / 7\n",
      "------ 3 / 7\n",
      "------ 4 / 7\n",
      "------ 5 / 7\n",
      "------ 6 / 7\n",
      "ROC: 0.808578790601\n",
      "CM: [[6508    0]\n",
      " [ 117    0]]\n"
     ]
    }
   ],
   "source": [
    "df_path = '/raid/mohamed/siim-isic-melanoma-classification/data/val_split.csv'\n",
    "image_dir = '/raid/mohamed/siim-isic-melanoma-classification/data/resized-jpeg/train/'\n",
    "df = pd.read_csv(df_path)\n",
    "all_prob = predict_2(df, image_dir, iterations=5, augmentation=GeometryContrast())"
   ]
  },
  {
   "cell_type": "markdown",
   "metadata": {},
   "source": [
    "**Make predictions for submission**"
   ]
  },
  {
   "cell_type": "code",
   "execution_count": 10,
   "metadata": {},
   "outputs": [],
   "source": [
    "df_path = '/raid/mohamed/siim-isic-melanoma-classification/data/test.csv'\n",
    "image_dir = '/raid/mohamed/siim-isic-melanoma-classification/data/resized-jpeg/test/'\n",
    "df = pd.read_csv(df_path)\n",
    "df['target'] = 0"
   ]
  },
  {
   "cell_type": "code",
   "execution_count": 11,
   "metadata": {},
   "outputs": [
    {
     "name": "stdout",
     "output_type": "stream",
     "text": [
      "-----Iteration----- 0\n",
      "------ 0 / 11\n",
      "------ 1 / 11\n",
      "------ 2 / 11\n",
      "------ 3 / 11\n",
      "------ 4 / 11\n",
      "------ 5 / 11\n",
      "------ 6 / 11\n",
      "------ 7 / 11\n",
      "------ 8 / 11\n",
      "------ 9 / 11\n",
      "------ 10 / 11\n",
      "-----Iteration----- 1\n",
      "------ 0 / 11\n",
      "------ 1 / 11\n",
      "------ 2 / 11\n",
      "------ 3 / 11\n",
      "------ 4 / 11\n",
      "------ 5 / 11\n",
      "------ 6 / 11\n",
      "------ 7 / 11\n",
      "------ 8 / 11\n",
      "------ 9 / 11\n",
      "------ 10 / 11\n",
      "-----Iteration----- 2\n",
      "------ 0 / 11\n",
      "------ 1 / 11\n",
      "------ 2 / 11\n",
      "------ 3 / 11\n",
      "------ 4 / 11\n",
      "------ 5 / 11\n",
      "------ 6 / 11\n",
      "------ 7 / 11\n",
      "------ 8 / 11\n",
      "------ 9 / 11\n",
      "------ 10 / 11\n",
      "-----Iteration----- 3\n",
      "------ 0 / 11\n",
      "------ 1 / 11\n",
      "------ 2 / 11\n",
      "------ 3 / 11\n",
      "------ 4 / 11\n",
      "------ 5 / 11\n",
      "------ 6 / 11\n",
      "------ 7 / 11\n",
      "------ 8 / 11\n",
      "------ 9 / 11\n",
      "------ 10 / 11\n",
      "-----Iteration----- 4\n",
      "------ 0 / 11\n",
      "------ 1 / 11\n",
      "------ 2 / 11\n",
      "------ 3 / 11\n",
      "------ 4 / 11\n",
      "------ 5 / 11\n",
      "------ 6 / 11\n",
      "------ 7 / 11\n",
      "------ 8 / 11\n",
      "------ 9 / 11\n",
      "------ 10 / 11\n"
     ]
    }
   ],
   "source": [
    "all_prob = predict_2(df, image_dir, iterations=5, augmentation=GeometryContrast(), validate=False)"
   ]
  },
  {
   "cell_type": "code",
   "execution_count": 13,
   "metadata": {},
   "outputs": [],
   "source": [
    "df['target'] = all_prob\n",
    "df = df[['image_name', 'target']]\n",
    "df.to_csv('submission/sample_submission.csv', index=None)"
   ]
  },
  {
   "cell_type": "code",
   "execution_count": 9,
   "metadata": {},
   "outputs": [
    {
     "data": {
      "text/plain": [
       "'/raid/mohamed/siim-isic-melanoma-classification/mohamed'"
      ]
     },
     "execution_count": 9,
     "metadata": {},
     "output_type": "execute_result"
    }
   ],
   "source": [
    "pwd"
   ]
  },
  {
   "cell_type": "code",
   "execution_count": null,
   "metadata": {},
   "outputs": [],
   "source": []
  }
 ],
 "metadata": {
  "kernelspec": {
   "display_name": "Python 3",
   "language": "python",
   "name": "python3"
  },
  "language_info": {
   "codemirror_mode": {
    "name": "ipython",
    "version": 3
   },
   "file_extension": ".py",
   "mimetype": "text/x-python",
   "name": "python",
   "nbconvert_exporter": "python",
   "pygments_lexer": "ipython3",
   "version": "3.6.10"
  }
 },
 "nbformat": 4,
 "nbformat_minor": 4
}
